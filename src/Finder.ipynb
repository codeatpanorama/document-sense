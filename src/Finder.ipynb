{
 "cells": [
  {
   "attachments": {},
   "cell_type": "markdown",
   "metadata": {},
   "source": [
    "# Find a keyword in a document"
   ]
  },
  {
   "cell_type": "code",
   "execution_count": 21,
   "metadata": {},
   "outputs": [],
   "source": [
    "import pandas as pd\n",
    "import numpy as np\n",
    "import PIL\n",
    "import pytesseract\n",
    "import spacy\n",
    "import cv2\n",
    "import os\n",
    "from pdf2image import convert_from_path\n",
    "from glob import glob"
   ]
  },
  {
   "attachments": {},
   "cell_type": "markdown",
   "metadata": {},
   "source": [
    "## Logic for keyword search in a document\n",
    "1. Open the file using cv2\n",
    "2. Parse the text document\n",
    "3. Store the result in a dataframe\n",
    "4. Filter the dataframe using the keyword\n",
    "5. Get the x,y,h,w of the keyword in the document\n",
    "6. Draw bounding lines and save the document"
   ]
  },
  {
   "cell_type": "code",
   "execution_count": 22,
   "metadata": {},
   "outputs": [],
   "source": [
    "pdfPath = r\"../data/2.pdf\"\n",
    "\n",
    "searchInput = 'विकिपीडिया'"
   ]
  },
  {
   "cell_type": "code",
   "execution_count": 23,
   "metadata": {},
   "outputs": [],
   "source": [
    "## Generate dataframe\n",
    "def generateDataFrame():\n",
    "    pages = convert_from_path(pdfPath, 350)\n",
    "    i = 1\n",
    "    for page in pages:\n",
    "        image_name = \"../data/temp/finder/Page_\" + str(i) + \".jpg\"\n",
    "        page.save(image_name, \"JPEG\")\n",
    "        i = i+1\n",
    "\n",
    "    imagePathList = glob(\"../data/temp/finder/*.jpg\")\n",
    "\n",
    "    #logging.info(\"total number of pages \"+ str(len(imagePathList)))\n",
    "    imagePathList.sort()\n",
    "\n",
    "    finalDF = pd.DataFrame()\n",
    "\n",
    "    col_int = ['level', 'page_num', 'block_num', 'par_num',\n",
    "                'line_num', 'word_num', 'left', 'top', 'width', 'height']\n",
    "\n",
    "    for _, path in enumerate(imagePathList):\n",
    "        img = cv2.imread(path)\n",
    "        data = pytesseract.image_to_data(img, lang='mar+eng')\n",
    "        dataList = list(map(lambda x: x.split('\\t'), data.split('\\n')))\n",
    "        df = pd.DataFrame(dataList[1:], columns=dataList[0])\n",
    "        df.to_csv(index=False)\n",
    "\n",
    "        ## Data cleaning\n",
    "        df.dropna(inplace=True)  # drop the missing in rows\n",
    "        df[col_int] = df[col_int].astype(int)\n",
    "        df['conf'] = df['conf'].astype(float).astype(int)\n",
    "\n",
    "        df = df[(df['level'] == 5) & (df['text'] == searchInput)]\n",
    "\n",
    "        ## Draw lines on the text in the document\n",
    "        #image = img.copy()\n",
    "        #generateBoundedImage(image, index, df)\n",
    "\n",
    "        finalDF = pd.concat([finalDF, df], ignore_index = True)\n",
    "\n",
    "    \n",
    "    return finalDF\n"
   ]
  },
  {
   "cell_type": "code",
   "execution_count": 24,
   "metadata": {},
   "outputs": [],
   "source": [
    "filteredDf = generateDataFrame()"
   ]
  },
  {
   "cell_type": "code",
   "execution_count": 25,
   "metadata": {},
   "outputs": [],
   "source": [
    "def generateBoundedImage(image, index:int, df:pd.DataFrame):\n",
    "    ## Draw lines on the text in the document\n",
    "    level = 'word'\n",
    "    for l, x, y, w, h, c, t in df[['level', 'left', 'top', 'width', 'height', 'conf', 'text']].values:\n",
    "        if level == 'page':\n",
    "            if l == 1:\n",
    "                cv2.rectangle(image, (x, y), (x+w, y+h), (0, 0, 0), 2)\n",
    "            else:\n",
    "                continue\n",
    "\n",
    "        elif level == 'block':\n",
    "            if l == 2:\n",
    "                cv2.rectangle(image, (x, y), (x+w, y+h), (255, 0, 0), 2)\n",
    "            else:\n",
    "                continue\n",
    "        elif level == 'para':\n",
    "            if l == 3:\n",
    "                cv2.rectangle(image, (x, y), (x+w, y+h), (0, 255, 0), 2)\n",
    "            else:\n",
    "                continue\n",
    "        elif level == 'line':\n",
    "            if l == 4:\n",
    "                cv2.rectangle(image, (x, y), (x+w, y+h), (0, 0, 255), 2)\n",
    "            else:\n",
    "                continue\n",
    "        elif level == 'word':\n",
    "            if l == 5:\n",
    "                cv2.rectangle(image, (x, y), (x+w, y+h), (0, 255, 0), 2)\n",
    "                cv2.putText(image, t, (x, y), cv2.FONT_HERSHEY_PLAIN,\n",
    "                            1, (255, 0, 0), 2)\n",
    "            else:\n",
    "                continue\n",
    "    \n",
    "    boundedImagePath = \"../data/bounded/boundingbox_\"+ str(index)+\".jpeg\"\n",
    "    cv2.imwrite(boundedImagePath, image)"
   ]
  },
  {
   "cell_type": "code",
   "execution_count": 26,
   "metadata": {},
   "outputs": [],
   "source": [
    "img = cv2.imread('../data/temp/finder/Page_1.jpg')\n",
    "generateBoundedImage(img, 0, filteredDf)"
   ]
  },
  {
   "cell_type": "code",
   "execution_count": null,
   "metadata": {},
   "outputs": [],
   "source": []
  }
 ],
 "metadata": {
  "kernelspec": {
   "display_name": "Python 3",
   "language": "python",
   "name": "python3"
  },
  "language_info": {
   "codemirror_mode": {
    "name": "ipython",
    "version": 3
   },
   "file_extension": ".py",
   "mimetype": "text/x-python",
   "name": "python",
   "nbconvert_exporter": "python",
   "pygments_lexer": "ipython3",
   "version": "3.7.16"
  },
  "orig_nbformat": 4,
  "vscode": {
   "interpreter": {
    "hash": "58c670b8b3135f95eeb50a087490294868fb63e0a9a712eae1d387dba638a30f"
   }
  }
 },
 "nbformat": 4,
 "nbformat_minor": 2
}
